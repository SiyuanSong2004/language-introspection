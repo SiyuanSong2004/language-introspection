{
 "cells": [
  {
   "cell_type": "markdown",
   "metadata": {},
   "source": [
    "# Sampling Data From LI_Large and BLiMP"
   ]
  },
  {
   "cell_type": "code",
   "execution_count": 2,
   "metadata": {},
   "outputs": [],
   "source": [
    "import pandas as pd\n",
    "from random import sample"
   ]
  },
  {
   "cell_type": "markdown",
   "metadata": {
    "vscode": {
     "languageId": "plaintext"
    }
   },
   "source": [
    "## BLiMP"
   ]
  },
  {
   "cell_type": "code",
   "execution_count": 3,
   "metadata": {},
   "outputs": [
    {
     "name": "stderr",
     "output_type": "stream",
     "text": [
      "/var/folders/bc/ngtmlgzx4xnfxdkzgk4c4g_h0000gn/T/ipykernel_53502/531065063.py:1: DtypeWarning: Columns (14) have mixed types. Specify dtype option on import or set low_memory=False.\n",
      "  blimpall = pd.read_csv('BLiMP_pairs.csv')\n"
     ]
    }
   ],
   "source": [
    "blimpall = pd.read_csv('BLiMP_pairs.csv')\n",
    "paradigms = blimpall['paradigm'].unique()\n",
    "blimp_sampled = pd.DataFrame()\n",
    "for paradigm in paradigms:\n",
    "    blimp_sampled = pd.concat([blimp_sampled, blimpall[blimpall['paradigm'] == paradigm].sample(10)])\n",
    "#blimp_sampled.to_csv('BLiMP.csv', index=False)"
   ]
  },
  {
   "cell_type": "markdown",
   "metadata": {},
   "source": [
    "## LI"
   ]
  },
  {
   "cell_type": "code",
   "execution_count": 4,
   "metadata": {},
   "outputs": [
    {
     "name": "stdout",
     "output_type": "stream",
     "text": [
      "380\n"
     ]
    }
   ],
   "source": [
    "Li_all = pd.read_csv('LI_Large_pairs.csv')\n",
    "\n",
    "def mp(row):\n",
    "    words1 = str(row['sentence_grammatical']).split()\n",
    "    words2 = str(row['sentence_ungrammatical']).split()\n",
    "    \n",
    "    if len(words1) != len(words2):\n",
    "        return 'no'\n",
    "    \n",
    "    diff_count = sum(1 for w1, w2 in zip(words1, words2) if w1 != w2)\n",
    "    \n",
    "    return 'yes' if diff_count == 1 else 'no'\n",
    "\n",
    "Li_all['diff_isminimal'] = Li_all.apply(mp, axis=1)\n",
    "\n",
    "LI = Li_all[Li_all['diff_isminimal'] == 'yes']\n",
    "LI = LI.dropna(subset=['sentence_grammatical', 'sentence_ungrammatical', 'LS_grammatical', 'LS_ungrammatical'])\n",
    "print(len(LI))\n",
    "\n",
    "#LI.to_csv('LI.csv', index=False)"
   ]
  },
  {
   "cell_type": "code",
   "execution_count": 6,
   "metadata": {},
   "outputs": [
    {
     "name": "stderr",
     "output_type": "stream",
     "text": [
      "/var/folders/bc/ngtmlgzx4xnfxdkzgk4c4g_h0000gn/T/ipykernel_53502/701595671.py:9: SettingWithCopyWarning: \n",
      "A value is trying to be set on a copy of a slice from a DataFrame\n",
      "\n",
      "See the caveats in the documentation: https://pandas.pydata.org/pandas-docs/stable/user_guide/indexing.html#returning-a-view-versus-a-copy\n",
      "  data_clear.drop_duplicates(subset=['sentence_grammatical', 'sentence_ungrammatical'], inplace=True)\n",
      "/var/folders/bc/ngtmlgzx4xnfxdkzgk4c4g_h0000gn/T/ipykernel_53502/701595671.py:11: SettingWithCopyWarning: \n",
      "A value is trying to be set on a copy of a slice from a DataFrame.\n",
      "Try using .loc[row_indexer,col_indexer] = value instead\n",
      "\n",
      "See the caveats in the documentation: https://pandas.pydata.org/pandas-docs/stable/user_guide/indexing.html#returning-a-view-versus-a-copy\n",
      "  data_clear['pair_ID'] = range(len(data_clear))\n"
     ]
    }
   ],
   "source": [
    "#data1 = pd.read_csv('BLiMP.csv')\n",
    "data1 = blimp_sampled\n",
    "data1['source']='blimp'\n",
    "data2 = LI\n",
    "#data2 = pd.read_csv('LI.csv')\n",
    "data2['source']='li'\n",
    "data = pd.concat([data1, data2])\n",
    "data_clear = data[['sentence_grammatical', 'sentence_ungrammatical','source','paradigm', 'phenomenon', 'LS_grammatical', 'LS_ungrammatical','LS_diff']]\n",
    "data_clear.drop_duplicates(subset=['sentence_grammatical', 'sentence_ungrammatical'], inplace=True)\n",
    "# add pair id\n",
    "data_clear['pair_ID'] = range(len(data_clear))\n",
    "data_clear.to_csv('../../testsuites/BLIMPLI.csv', index=False)"
   ]
  }
 ],
 "metadata": {
  "kernelspec": {
   "display_name": "base",
   "language": "python",
   "name": "python3"
  },
  "language_info": {
   "codemirror_mode": {
    "name": "ipython",
    "version": 3
   },
   "file_extension": ".py",
   "mimetype": "text/x-python",
   "name": "python",
   "nbconvert_exporter": "python",
   "pygments_lexer": "ipython3",
   "version": "3.9.18"
  }
 },
 "nbformat": 4,
 "nbformat_minor": 2
}
